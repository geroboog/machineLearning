{
  "nbformat": 4,
  "nbformat_minor": 0,
  "metadata": {
    "colab": {
      "name": "Assignment 3.ipynb",
      "provenance": [],
      "collapsed_sections": [],
      "include_colab_link": true
    },
    "kernelspec": {
      "name": "python3",
      "display_name": "Python 3"
    }
  },
  "cells": [
    {
      "cell_type": "markdown",
      "metadata": {
        "id": "view-in-github",
        "colab_type": "text"
      },
      "source": [
        "<a href=\"https://colab.research.google.com/github/geroboog/machineLearning/blob/master/Assignment_3.ipynb\" target=\"_parent\"><img src=\"https://colab.research.google.com/assets/colab-badge.svg\" alt=\"Open In Colab\"/></a>"
      ]
    },
    {
      "cell_type": "markdown",
      "metadata": {
        "id": "LJcgK_yXyKR3",
        "colab_type": "text"
      },
      "source": [
        "#Plan For Multiple Speaker Voice Segmentation Services For Psychological Counseling Basing On Machine Learning Technology"
      ]
    },
    {
      "cell_type": "markdown",
      "metadata": {
        "id": "p5A1-fquyKjw",
        "colab_type": "text"
      },
      "source": [
        "##Introduction\n",
        "From 2011 to 2017, there are almost half of Australia experiences mental disorders, and a part of them even got serials psychological illness. Many people would like to choose to counsel the psychologists for curing themself, so this project is for introducing a one year plan for the multiple speaker voice segmentation services for psychological counseling basing on machine learning technology.  Firstly, this paper will introduce the aims of the project. Secondly, coming to the background section, the author will describe several technologies including machine learning technologies that can be used for achieving the aims. Thirdly,  the third section will detailly introduce the content of the research project including the significance, innovation, plan, Gantt Chart, and outcome. Fourthly, the author will estimate the required personnel, equipment, and resources of this project. Before the conclusion part, the budget for this project will be calculated in a detailed statement. Last but not least, the whole paper is summarized in the conclusion part."
      ]
    },
    {
      "cell_type": "markdown",
      "metadata": {
        "id": "-UhGPWWOyKwX",
        "colab_type": "text"
      },
      "source": [
        "##Project aims\n",
        "From the mental health survey of the Australia government, more and more citizens are suffering high pressure and tend to suffer mental illness. Specifically, more than 4 million Australia got help from psychological counseling. In this situation, many counselings are recorded for doctors to review it.  However,  counselings are often long and joined with multiple speakers, so it is hard for doctors to find a specific chat from the whole counseling. Therefore, it is important to handle the voice record by segmenting it to pieces and classifying the segmentations to different speakers. Since the development of machine learning technology, the technologies for voice segmentation are created and evaluation, so it is feasible to use such technologies to segmenting the psychological counseling records. Therefore, in this article, the author aims to plan to build the segmentation and classification framework for automatically segmenting the long psychological counseling voice recording and classifying or clustering it to different speakers by using machine learning technology and this project will be a middle-sized project which means that the cost of this project is not high and it will be completed within a year. For achieving this aim, the overall objectives of this project will be: \n",
        "\n",
        "1. Collecting voice records with multiple speakers as the training data set for developing and training the data segmentation and classification model.\n",
        "\n",
        "2. Collecting sample psychological counseling voice records as testing data set for testing the data model.\n",
        "\n",
        "3. Developing the model and services for segmentation and classification/cluster.\n",
        "\n",
        "4. Deploying the model to the production service for applications to use this service."
      ]
    },
    {
      "cell_type": "markdown",
      "metadata": {
        "id": "CQKb8Zp-yK6w",
        "colab_type": "text"
      },
      "source": [
        "##Background\n",
        "In the voice segmentation technology area, since 2006, a part of the voice segmentation function is already achieved. Specifically, Wang(2006) designed a speaker recognition system basing on the clustering algorithm for clustering the speeches into different groups, which can be used in this project to cluster the voice segmentations into different speaker groups. Yan(2007) introduces an algorithm for avoiding the wrong cutting in the story unit of video and voice. This algorithm is important for any kind of voice segmentation because when a speaker is expounding something, other speakers may interrupt them with few words. However, this segmentation should not be divided into different speakers because the speakers are in the same story that the first speaker is talking about. With this technology, when the system tries to segment a long speech, it can identify every story unit and not break the stories of the speech.  \n",
        "\n",
        "Besides, for segmenting the voice to pieces, the voice segmentation system(Rocha, Freire & Alencar 2014) was developed and evaluated with a 77.6% success rate, so the voice segmentation is feasible. For improving the segmentation technology,  Patil(2017) designed a speaker segmentation framework as Fig. 1 and used the clustering algorithm in a voice segmentation system and successfully raise the segmentation accuracy to 96%.  With such a successful framework, this project will be achieved faster and cost a lower budget for researching and developing the service.\n",
        "\n",
        "<center><img src=\"https://github.com/geroboog/machineLearning/blob/master/8389707-fig-1-source-small.gif?raw=true\" width=\"150\"/></center>\n",
        "<center>Fig. 1 Voice Segmentation Framework(Patil & Gaud 2017)</center>\n",
        "\n",
        "\n",
        "What's more, if this project would like to further improve the accuracy of clustering the segmentations, the voice pre-processing is a good choice. Specifically, for dealing with the noise of voice, Berdibaeva(2017) presented several technologies to pre-process voice in voice segmentation system, which is shown as Fig. 2.\n",
        "\n",
        "<center><img src=\"https://github.com/geroboog/machineLearning/blob/master/7981748-fig-3-source-small.gif?raw=true\" width=\"400\"/></center>\n",
        "<center>Fig. 2 Pre-processing voice(Berdibaeva 2017)</center>\n",
        "\n"
      ]
    },
    {
      "cell_type": "markdown",
      "metadata": {
        "id": "t4fG-lEA5Vbn",
        "colab_type": "text"
      },
      "source": [
        "##Research Project\n",
        "**Significance:** In 2011,  from the result(AIHW 2019) that the Australia government invested, 64,000 people received the help of psychological health services every year in Australia. In 2013,  the estimated 2-3% of Australians suffered a serious mental illness.  In 2017, almost half of Australian citizens aged 16-85 years old experienced psychological disorders.  For helping the peoples to overcome the difficulties, from 2016 to 2017, Australia spends \\$9.1 billion in the mental health service. Without the help of voice segmentation technology, when psychologists try to review the long records, because a long record may consist of multiple speakers and multiple chats, the psychologists will spend so much time to search a specific chat from the long records, which show as the Fig. 3.\n",
        "<center><img src=\"https://github.com/geroboog/machineLearning/blob/master/Capture.JPG?raw=true\" width=\"400\"/></center>\n",
        "<center>Fig. 3 Finding the Chat of a long voice record</center>\n",
        "\n",
        "From the result of the above investment, helping the psychologist to cure the patients is significant, which will not only reduce the work stress of psychologists but also is beneficial for increasing the treatment effect. What's more, this area is an innovated and huge market that the organizations and government of Australia would like to spend a lot of money to use this service once it is successful and useful for helping psychotherapy.\n",
        "\n",
        "**Innovation**: From the background section, the researchers only focus on the voice segmentation and speaker segmentation, but they didn't use this technology in a domain area like psychotherapy. In different scenarios, the speakers are different and the story they expound are various, so if the research project applies this technology on a specific domain like psychotherapy, it can provide the application value to the further research of voice segmentation, and also it can provide convenience to psychologists to cure people suffering mental disorders. \n",
        "\n",
        "**Research Project Plan：** For organizing this research project to success, a workflow is designed as Fig. 4 which includes all main tasks that this project should complete. Besides, this author will apply the waterfall development to organize the whole project, because every main task depends on the results of the previous level. What's more, this project uses the oriented-service programming methodology to build the framework which contains the feature extraction, voice segmentation, and speaker segmentation service. All tasks can be broken down as below:\n",
        "\n",
        "1.   Collecting Multiple speaker voice records as data sample. This task includes (i) Collecting normal multiple speaker voice records from video because those records can be easily collected for starting the feature extraction service. (ii) Contacting the hospital to get the psychological counseling voice records.\n",
        "\n",
        "2.   Constructing the voice records as training and testing data samples. This task includes (i) Pre-processing the voice records. (ii) Constructing the normal multiple speaker voice records to be training data sets. (iii) Constructing psychological counseling voice records to be training and testing data sets.\n",
        "3.   For the feature extraction service, the task can be broke down as: (i)Building the feature extraction service using python. (ii)Testing the feature extraction service.\n",
        "4.   For the voice segmentation part, the task can be broke down as: (i)Building the voice segmentation algorithm using Python. (ii) Building the voice segmentation service with the algorithm. (iii)Testing the voice segmentation service.\n",
        "5.   For the speaker clustering part, the task can be broken down as:(i)Building the speaker clustering algorithm using Python and Tensorflow library. (ii)Building the speaker clustering service library. (iii)Testing the speaker clustering service.\n",
        "6.   Testing the segmentation framework.\n",
        "7.   Deploying the service in the server.\n",
        "\n",
        "<center><img src=\"https://github.com/geroboog/machineLearning/blob/master/a3-workflow.JPG?raw=true\" width=\"400\"/></center>\n",
        "<center>Fig. 4 Workflow of research project</center>\n",
        "\n",
        "**Gantt Chart:** This project will be completed in one year. Therefore, for planning this project to be completed in one year, a Gantt chart is drawn as below to organize this project to be completed on time, and also the tasks of the Gantt chart not only include the tasks of the workflow graph, but also the tasks of the whole project. The basic time unit of the Gantt chart is a week: \n",
        "<center><img src=\"https://github.com/geroboog/machineLearning/blob/master/a3-Gantt%20Chart2.JPG?raw=true\" width=\"900\" /></center>\n",
        "<center>Fig. 5 Gantt Chart for research project</center>\n",
        "\n",
        "**Outcome of this project:** After this project is completed, the investor can provide the segmentation service to all hospitals for segmenting their voice record and clustering them to different patients and doctors, which will reduce the work pressure of psychologists. Besides, this segmentation service can provide an integrated voice segmentation and speaker segmentation framework for further researchers, which can raise the social status of the organizing and investing company. What's more, after this service applies successfully in the psychotherapy area, this technology can be used in another domain area such as law counseling.\n"
      ]
    },
    {
      "cell_type": "markdown",
      "metadata": {
        "id": "yqlmtVgS5lc9",
        "colab_type": "text"
      },
      "source": [
        "##Personnel and Equipment\n",
        "This project will need a project manager, a software developer, two data scientists. The project manager is for organizing the whole project and contacting with the invertors and hospitals. The software developer is for developing and maintaining the service in the server. The data scientists are for developing all the algorithms and handling the voice records, which are shown in Table 1. The reason why this project needs two data scientists is that the data collection part of this project is important and will collect more than 1000 voice samples, so only one data scientist can't complete such heavy work on time.\n",
        "\n",
        "The equipment and extra resources in this project are the AWS cloud servers including 2 EC2 servers which are for testing and production and 3 computers for the developer and data scientists.\n",
        "\n",
        "| Entity  |||     |Number|\n",
        "|---|---|---|---|---|\n",
        "|project manager ||||1|\n",
        "|software developer ||||1|\n",
        "|data scientists ||||2|\n",
        "|computers ||| |3|\n",
        "|EC2 Servers ||||2| \n",
        "\n",
        "<center>Table 1. Personnel and Equipments</center>"
      ]
    },
    {
      "cell_type": "markdown",
      "metadata": {
        "id": "_dJJPiCl5euc",
        "colab_type": "text"
      },
      "source": [
        "##Budget\n",
        "The period of this project is within a year and the budget of this project will be calculated and estimated as table.2. The price of the computer is $2000 each. The EC2 Servers will be purchased from the Amazon AWS service. Besides, this project is planned as a middle-sized project.  Therefore, the project manager and software developer can be employed as a junior project manager. The data scientists can be employed as one junior and one senior. Table 2 is shown below:\n",
        "\n",
        "| Entity  ||day|         Unit Cost      |Cost|\n",
        "|---|---|---|---|---|\n",
        "|  3 computers ||| 2000  |\\$6000|\n",
        "|  2 EC2 Servers ||4.45| 365  |\\$1,624| \n",
        "|  1 project manager ||12 month|  6,000 |\\$72,000|\n",
        "|  1 software developer ||12 month|  6,000 |\\$72,000|\n",
        "|  2 data scientists ||12 month| 6000,8000 |\\$168,000|\n",
        "|    || |  |Total Cost|\n",
        "|    || |  |\\$319,624|\n",
        "\n",
        "<center>Table 2. Budget for all entities</center>"
      ]
    },
    {
      "cell_type": "markdown",
      "metadata": {
        "id": "eq8bWR1sHND8",
        "colab_type": "text"
      },
      "source": [
        "#Conclusion\n",
        "In conclusion, this article indicates the significance of developing multiple speaker voice segmentation services and researches several technologies that can be used for developing the designed segmentation framework. For organizing this project to be successful, the author plans a Gantt Chart for showing the timelines and tasks of this project. Besides, the estimated budget for this project is \\$319,624. If this project success, it can not only provide the convenience to psychologists but also build the benchmark for the voice segmentation of other domain like law counseling."
      ]
    },
    {
      "cell_type": "markdown",
      "metadata": {
        "id": "5g3ww65N5pcF",
        "colab_type": "text"
      },
      "source": [
        "#References\n",
        "\n",
        "[1]Wang, B., Zhao, J., Peng, X. & Li, B. 2006, 'A Novel Speaker Clustering Algorithm in Speaker Recognition System', pp. 3298-302.\n",
        "\n",
        "[2]Yan, L., Du, J., Huang, Q. & Jiang, S. 2007, 'A Novel Story Unit Segmentation Algorithm Avoiding Voice Cutting', pp. 821-6.\n",
        "\n",
        "[3]Rocha, R.B., Freire, V.V. & Alencar, M.S. 2014, 'Voice segmentation system based on energy estimation', pp. 860-4.\n",
        "\n",
        "[4]Berdibaeva, G.K., Bodin, O.N., Kozlov, V.V., Nefed'ev, D.I., Ozhikenov, K.A. & Pizhonkov, Y.A. 2017, 'Pre-processing voice signals for voice recognition systems', pp. 242-5.\n",
        "\n",
        "[5]Patil, V.V. & Gaud, P.M. 2017, 'Improved speaker segmentation using clustering technique', pp. 1554-8.\n",
        "\n",
        "[6]AIHW 2019, Mental health services in Australia, viewed 9th Oct 2019, <https://www.aihw.gov.au/reports/mental-health-services/mental-health-services-in-australia/report-contents/summary/prevalence-and-policies>.\n",
        "\n"
      ]
    },
    {
      "cell_type": "markdown",
      "metadata": {
        "id": "d2suPTdAYEtj",
        "colab_type": "text"
      },
      "source": [
        "#Video Pitch\n",
        "https://www.youtube.com/watch?v=wpHUrLrKIaI&feature=youtu.be\n",
        "\n",
        "<center><img src=\"https://github.com/geroboog/machineLearning/blob/master/Capture3.JPG?raw=true\" width=\"400\"/></center>"
      ]
    }
  ]
}